{
  "nbformat": 4,
  "nbformat_minor": 0,
  "metadata": {
    "colab": {
      "provenance": [],
      "authorship_tag": "ABX9TyMeiLZrsbP36FHZG5Rd4i7q",
      "include_colab_link": true
    },
    "kernelspec": {
      "name": "python3",
      "display_name": "Python 3"
    },
    "language_info": {
      "name": "python"
    }
  },
  "cells": [
    {
      "cell_type": "markdown",
      "metadata": {
        "id": "view-in-github",
        "colab_type": "text"
      },
      "source": [
        "<a href=\"https://colab.research.google.com/github/lucsampaioime/lucsampaioime/blob/nmf/NMF_practice.ipynb\" target=\"_parent\"><img src=\"https://colab.research.google.com/assets/colab-badge.svg\" alt=\"Open In Colab\"/></a>"
      ]
    },
    {
      "cell_type": "markdown",
      "source": [
        "Importando as bibliotecas necessárias"
      ],
      "metadata": {
        "id": "h726JbaDE2f7"
      }
    },
    {
      "cell_type": "code",
      "execution_count": null,
      "metadata": {
        "id": "YQuNCc6s_Pwl"
      },
      "outputs": [],
      "source": [
        "import numpy as np\n",
        "from sklearn.datasets import fetch_20newsgroups\n",
        "from sklearn.feature_extraction.text import TfidfVectorizer\n",
        "from sklearn.decomposition import NMF"
      ]
    },
    {
      "cell_type": "markdown",
      "source": [
        "Importando o dataset"
      ],
      "metadata": {
        "id": "z6tmwfHDFBCi"
      }
    },
    {
      "cell_type": "code",
      "source": [
        "text_data= fetch_20newsgroups(remove=('headers', 'footers', 'quotes')).data\n",
        "text_data[:1]"
      ],
      "metadata": {
        "colab": {
          "base_uri": "https://localhost:8080/"
        },
        "id": "GBSffYgLFHFc",
        "outputId": "4a6e2207-459f-43bc-c80d-dfa908dd8fca"
      },
      "execution_count": null,
      "outputs": [
        {
          "output_type": "execute_result",
          "data": {
            "text/plain": [
              "['I was wondering if anyone out there could enlighten me on this car I saw\\nthe other day. It was a 2-door sports car, looked to be from the late 60s/\\nearly 70s. It was called a Bricklin. The doors were really small. In addition,\\nthe front bumper was separate from the rest of the body. This is \\nall I know. If anyone can tellme a model name, engine specs, years\\nof production, where this car is made, history, or whatever info you\\nhave on this funky looking car, please e-mail.']"
            ]
          },
          "metadata": {},
          "execution_count": 3
        }
      ]
    },
    {
      "cell_type": "markdown",
      "source": [
        "Convertendo o texto em uma matrix term-document"
      ],
      "metadata": {
        "id": "YgQfc90sFdkz"
      }
    },
    {
      "cell_type": "code",
      "source": [
        "vectorizer = TfidfVectorizer(max_features=1500, min_df=10, stop_words='english')\n",
        "X = vectorizer.fit_transform(text_data)\n",
        "words = np.array(vectorizer.get_feature_names_out())"
      ],
      "metadata": {
        "id": "bNixyF2JFicQ"
      },
      "execution_count": null,
      "outputs": []
    },
    {
      "cell_type": "code",
      "source": [
        "print(X)\n",
        "print(\"X = \", words)"
      ],
      "metadata": {
        "colab": {
          "base_uri": "https://localhost:8080/"
        },
        "id": "m8GzwspSFkwA",
        "outputId": "3056f102-3d3f-483a-f0f2-04fb17de87c8"
      },
      "execution_count": null,
      "outputs": [
        {
          "output_type": "stream",
          "name": "stdout",
          "text": [
            "  (0, 829)\t0.13596515131134768\n",
            "  (0, 809)\t0.1439640091285723\n",
            "  (0, 707)\t0.16068505607893963\n",
            "  (0, 672)\t0.16927150728890597\n",
            "  (0, 1495)\t0.1274990882101728\n",
            "  (0, 506)\t0.19413995565094086\n",
            "  (0, 887)\t0.17648781190400797\n",
            "  (0, 757)\t0.09424560560725692\n",
            "  (0, 247)\t0.17513150125349702\n",
            "  (0, 1158)\t0.1651151431885443\n",
            "  (0, 1218)\t0.19781957502373113\n",
            "  (0, 128)\t0.190572546028195\n",
            "  (0, 1256)\t0.153503242191245\n",
            "  (0, 1118)\t0.12154002727766956\n",
            "  (0, 273)\t0.14279390121865662\n",
            "  (0, 484)\t0.1714763727922697\n",
            "  (0, 767)\t0.18711856186440218\n",
            "  (0, 808)\t0.18303366583393096\n",
            "  (0, 469)\t0.2009979730339519\n",
            "  (0, 411)\t0.14249215589040326\n",
            "  (0, 1191)\t0.17201525862610714\n",
            "  (0, 278)\t0.630558141606117\n",
            "  (0, 1472)\t0.1855076564575762\n",
            "  (1, 1355)\t0.12138696862814867\n",
            "  (1, 653)\t0.1728163048656526\n",
            "  :\t:\n",
            "  (11312, 1027)\t0.45507155319966874\n",
            "  (11312, 647)\t0.21811161764585577\n",
            "  (11312, 1302)\t0.2391477981479836\n",
            "  (11312, 1276)\t0.39611960235510485\n",
            "  (11312, 1100)\t0.1839292570975713\n",
            "  (11312, 926)\t0.2458009890045144\n",
            "  (11312, 1409)\t0.2006451645457405\n",
            "  (11312, 1486)\t0.183845539553728\n",
            "  (11312, 379)\t0.20769215501186927\n",
            "  (11312, 1026)\t0.16047640328575621\n",
            "  (11312, 1037)\t0.23285032689635052\n",
            "  (11312, 1082)\t0.23999986388716432\n",
            "  (11313, 244)\t0.27766069716692826\n",
            "  (11313, 1457)\t0.24327295967949422\n",
            "  (11313, 1219)\t0.26985268594168194\n",
            "  (11313, 1225)\t0.30171113023356894\n",
            "  (11313, 272)\t0.2725556981757495\n",
            "  (11313, 1394)\t0.238785899543691\n",
            "  (11313, 46)\t0.4263227148758932\n",
            "  (11313, 637)\t0.22561030228734125\n",
            "  (11313, 666)\t0.18286797664790702\n",
            "  (11313, 18)\t0.20991004117190362\n",
            "  (11313, 801)\t0.18133646100428719\n",
            "  (11313, 950)\t0.38841024980735567\n",
            "  (11313, 506)\t0.2732544408814576\n",
            "X =  ['00' '000' '01' ... 'york' 'young' 'zip']\n"
          ]
        }
      ]
    }
  ]
}